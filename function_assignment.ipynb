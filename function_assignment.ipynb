{
  "cells": [
    {
      "cell_type": "code",
      "execution_count": null,
      "id": "6ac6728d",
      "metadata": {
        "id": "6ac6728d",
        "outputId": "92401f17-aac9-4685-8e44-957731e4a829"
      },
      "outputs": [
        {
          "name": "stdout",
          "output_type": "stream",
          "text": [
            "Sub-field in AI:\n",
            "machine learning\n",
            "neural learning\n",
            "vision\n",
            "robotics\n",
            "speech processing\n",
            "natural language processing\n"
          ]
        }
      ],
      "source": [
        "#1\n",
        "def subfields():\n",
        "    subfields = [\"machine learning\", \"neural learning\", \"vision\", \"robotics\", \"speech processing\", \"natural language processing\"]\n",
        "    print(\"Sub-field in AI:\")\n",
        "    for i in subfields:\n",
        "        print(i)\n",
        "\n",
        "\n",
        "subfields()\n"
      ]
    },
    {
      "cell_type": "code",
      "execution_count": null,
      "id": "431169b0",
      "metadata": {
        "id": "431169b0",
        "outputId": "414b6f2a-3113-4c7d-c17e-431660170e25"
      },
      "outputs": [
        {
          "name": "stdout",
          "output_type": "stream",
          "text": [
            "enter the no6\n",
            "even no\n"
          ]
        }
      ],
      "source": [
        "#2logic on odd even function#\n",
        "num=int(input(\"enter the no\"))\n",
        "    if num%2==0:\n",
        "        print(\"even no\")\n",
        "    else:\n",
        "        print(\"odd no\")"
      ]
    },
    {
      "cell_type": "code",
      "execution_count": null,
      "id": "793929d1",
      "metadata": {
        "id": "793929d1"
      },
      "outputs": [],
      "source": [
        "#3\n",
        "def OddEven():\n",
        "    num=int(input(\"enter the no\"))\n",
        "    if num%2==0:\n",
        "        print(\"even no\")\n",
        "    else:\n",
        "        print(\"odd no\")\n",
        "\n",
        "\n",
        "\n"
      ]
    },
    {
      "cell_type": "code",
      "execution_count": null,
      "id": "3f20a2a0",
      "metadata": {
        "id": "3f20a2a0",
        "outputId": "7a690f8c-378a-48fe-c23c-8b13a3f524b7"
      },
      "outputs": [
        {
          "name": "stdout",
          "output_type": "stream",
          "text": [
            "enter the no8\n",
            "even no\n"
          ]
        }
      ],
      "source": [
        "OddEven()\n"
      ]
    },
    {
      "cell_type": "code",
      "execution_count": null,
      "id": "56ad3dc8",
      "metadata": {
        "id": "56ad3dc8",
        "outputId": "8d071823-a2a1-47c3-d7d8-05cf24b07b57"
      },
      "outputs": [
        {
          "name": "stdout",
          "output_type": "stream",
          "text": [
            "Your gender: male\n",
            "Your age:67\n",
            "Eligible for marriage\n"
          ]
        }
      ],
      "source": [
        "#4 logic of code\n",
        "gender = input(str(\"Your gender: \"))\n",
        "age = int(input(\"Your age:\"))\n",
        "if age >= 18:\n",
        "    print(\"Eligible for marriage\")\n",
        "else:\n",
        "    print(\"Not eligible\")"
      ]
    },
    {
      "cell_type": "code",
      "execution_count": null,
      "id": "2a7f3681",
      "metadata": {
        "id": "2a7f3681"
      },
      "outputs": [],
      "source": [
        "#5\n",
        "def Eligible():\n",
        "    gender = input(str(\"Your gender: \"))\n",
        "    age = int(input(\"Your age:\"))\n",
        "    if age >= 18:\n",
        "        print(\"Eligible for marriage\")\n",
        "    else:\n",
        "        print(\"Not eligible\")\n",
        ""
      ]
    },
    {
      "cell_type": "code",
      "execution_count": null,
      "id": "f04417b4",
      "metadata": {
        "id": "f04417b4",
        "outputId": "30595ef0-54f0-4248-cd30-3f20b62a26a2"
      },
      "outputs": [
        {
          "name": "stdout",
          "output_type": "stream",
          "text": [
            "Your gender: male\n",
            "Your age:25\n",
            "Eligible for marriage\n"
          ]
        }
      ],
      "source": [
        "Eligible()"
      ]
    },
    {
      "cell_type": "code",
      "execution_count": 3,
      "id": "82f068b7",
      "metadata": {
        "id": "82f068b7"
      },
      "outputs": [],
      "source": [
        "#6\n",
        "def triangle():\n",
        "    h=int(input(\"hieght\"))\n",
        "    b=int(input(\"weight\"))\n",
        "    hieght1=int(input())\n",
        "    hieght2=int(input())\n",
        "    area =(h*b)/2\n",
        "    print(\"area of triangle:\",area)\n",
        "    print(\"hieght1:\", hieght1)\n",
        "    print(\"hieght2:\", hieght2)\n",
        "    print(\"breath:\",b)\n",
        "    perimeter=hieght1+hieght1+b\n",
        "    print(\"perimeter of triangle:\",perimeter)"
      ]
    },
    {
      "cell_type": "code",
      "execution_count": 4,
      "id": "b36f1ccf",
      "metadata": {
        "colab": {
          "base_uri": "https://localhost:8080/"
        },
        "id": "b36f1ccf",
        "outputId": "0d06ac41-7771-4f34-e65d-82307e007996"
      },
      "outputs": [
        {
          "output_type": "stream",
          "name": "stdout",
          "text": [
            "hieght67\n",
            "weight67\n",
            "67\n",
            "56\n",
            "area of triangle: 2244.5\n",
            "hieght1: 67\n",
            "hieght2: 56\n",
            "breath: 67\n",
            "perimeter of triangle: 201\n"
          ]
        }
      ],
      "source": [
        "\n",
        "triangle()\n"
      ]
    },
    {
      "cell_type": "code",
      "execution_count": null,
      "id": "571e9da0",
      "metadata": {
        "id": "571e9da0"
      },
      "outputs": [],
      "source": []
    },
    {
      "cell_type": "code",
      "execution_count": null,
      "id": "5ec0d38b",
      "metadata": {
        "id": "5ec0d38b"
      },
      "outputs": [],
      "source": []
    }
  ],
  "metadata": {
    "kernelspec": {
      "display_name": "Python 3 (ipykernel)",
      "language": "python",
      "name": "python3"
    },
    "language_info": {
      "codemirror_mode": {
        "name": "ipython",
        "version": 3
      },
      "file_extension": ".py",
      "mimetype": "text/x-python",
      "name": "python",
      "nbconvert_exporter": "python",
      "pygments_lexer": "ipython3",
      "version": "3.10.11"
    },
    "colab": {
      "provenance": []
    }
  },
  "nbformat": 4,
  "nbformat_minor": 5
}