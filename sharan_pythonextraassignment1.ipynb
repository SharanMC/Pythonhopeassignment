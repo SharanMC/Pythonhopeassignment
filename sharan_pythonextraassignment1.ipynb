{
  "cells": [
    {
      "cell_type": "markdown",
      "id": "ec3dcdcd",
      "metadata": {
        "id": "ec3dcdcd"
      },
      "source": [
        "extra assignment1"
      ]
    },
    {
      "cell_type": "code",
      "execution_count": null,
      "id": "c62b07dc",
      "metadata": {
        "id": "c62b07dc",
        "outputId": "3fdbb970-a9dd-45f9-b297-735e5c7de64b"
      },
      "outputs": [
        {
          "name": "stdout",
          "output_type": "stream",
          "text": [
            "hope AI\n"
          ]
        }
      ],
      "source": [
        "#1#\n",
        "print(\"hope AI\")"
      ]
    },
    {
      "cell_type": "code",
      "execution_count": null,
      "id": "47aa3c56",
      "metadata": {
        "id": "47aa3c56",
        "outputId": "b7ac71ab-1ce9-456c-f9c2-cb001d425199"
      },
      "outputs": [
        {
          "name": "stdout",
          "output_type": "stream",
          "text": [
            "enter your institute name:hope ai\n",
            "hope ai\n"
          ]
        }
      ],
      "source": [
        "#2#\n",
        "inst_name=str(input(\"enter your institute name:\"))\n",
        "print(inst_name)\n"
      ]
    },
    {
      "cell_type": "code",
      "execution_count": null,
      "id": "e27b06dc",
      "metadata": {
        "id": "e27b06dc",
        "outputId": "55315dbe-5481-40b6-e390-f4b240ceed74"
      },
      "outputs": [
        {
          "name": "stdout",
          "output_type": "stream",
          "text": [
            "enter your name:sharan\n",
            "sharan\n",
            "enter your age:25\n",
            "25\n",
            "enter your school name:angel\n",
            "angel\n",
            "enter your degree:BE in ece\n",
            "BE in ece\n"
          ]
        }
      ],
      "source": [
        "#3#\n",
        "name=str(input('enter your name:'))\n",
        "print(name)\n",
        "age=str(input('enter your age:'))\n",
        "print(age)\n",
        "school=str(input('enter your school name:'))\n",
        "print(school)\n",
        "Degree=str(input('enter your degree:'))\n",
        "print(Degree)"
      ]
    },
    {
      "cell_type": "code",
      "execution_count": null,
      "id": "a909a8a4",
      "metadata": {
        "id": "a909a8a4",
        "outputId": "9813bca9-ec6f-4de1-fa72-a514f5eac5df"
      },
      "outputs": [
        {
          "name": "stdout",
          "output_type": "stream",
          "text": [
            "add= 77\n"
          ]
        }
      ],
      "source": [
        "#4#\n",
        "a=43\n",
        "b=34\n",
        "add=a+b\n",
        "print('add=',add)"
      ]
    },
    {
      "cell_type": "code",
      "execution_count": null,
      "id": "a42a17b1",
      "metadata": {
        "id": "a42a17b1",
        "outputId": "fb175dae-bf01-4896-a327-f1e4cc9f5aab"
      },
      "outputs": [
        {
          "name": "stdout",
          "output_type": "stream",
          "text": [
            "sub= 9\n"
          ]
        }
      ],
      "source": [
        "#5#\n",
        "a=43\n",
        "b=34\n",
        "sub=a-b\n",
        "print('sub=',sub)"
      ]
    },
    {
      "cell_type": "code",
      "execution_count": null,
      "id": "12a6bab0",
      "metadata": {
        "id": "12a6bab0",
        "outputId": "6082f88b-e7d1-48f0-bceb-dbc36b205670"
      },
      "outputs": [
        {
          "name": "stdout",
          "output_type": "stream",
          "text": [
            "mul= 6111\n"
          ]
        }
      ],
      "source": [
        "#5#\n",
        "a=63\n",
        "b=97\n",
        "mul=a*b\n",
        "print('mul=',mul)"
      ]
    },
    {
      "cell_type": "code",
      "execution_count": null,
      "id": "03952041",
      "metadata": {
        "id": "03952041",
        "outputId": "e02e61cc-71da-4508-c729-5ebd7bf03b16"
      },
      "outputs": [
        {
          "name": "stdout",
          "output_type": "stream",
          "text": [
            "mul= 2.4516129032258065\n"
          ]
        }
      ],
      "source": [
        "#6#\n",
        "a=76\n",
        "b=31\n",
        "mul=a/b\n",
        "print('mul=',mul)"
      ]
    },
    {
      "cell_type": "code",
      "execution_count": null,
      "id": "b7cbe77d",
      "metadata": {
        "id": "b7cbe77d",
        "outputId": "d585ff91-11d6-4a03-9dba-a48c0dd52ab7"
      },
      "outputs": [
        {
          "name": "stdout",
          "output_type": "stream",
          "text": [
            "2.4516129032258065\n"
          ]
        }
      ],
      "source": [
        "#7#\n",
        "a=76\n",
        "b=31\n",
        "div=a/b\n",
        "print(div)"
      ]
    },
    {
      "cell_type": "code",
      "execution_count": null,
      "id": "f30c5f64",
      "metadata": {
        "id": "f30c5f64",
        "outputId": "dd98c543-f8ce-478d-ba40-f929e3e096a0"
      },
      "outputs": [
        {
          "name": "stdout",
          "output_type": "stream",
          "text": [
            "2\n"
          ]
        }
      ],
      "source": [
        "#8#\n",
        "a=76\n",
        "b=31\n",
        "div=int(a/b)\n",
        "print(div)"
      ]
    },
    {
      "cell_type": "code",
      "execution_count": null,
      "id": "9c182800",
      "metadata": {
        "id": "9c182800",
        "outputId": "7f191ad0-16b9-48a3-d5d0-7ca3516c2191"
      },
      "outputs": [
        {
          "name": "stdout",
          "output_type": "stream",
          "text": [
            "14\n"
          ]
        }
      ],
      "source": [
        "a=76\n",
        "b=31\n",
        "div=(a%b)\n",
        "print(div)"
      ]
    },
    {
      "cell_type": "code",
      "execution_count": null,
      "id": "f8e19cd4",
      "metadata": {
        "id": "f8e19cd4",
        "outputId": "839f86e5-22d7-4be1-b5fc-2c505110106b"
      },
      "outputs": [
        {
          "name": "stdout",
          "output_type": "stream",
          "text": [
            "256\n"
          ]
        }
      ],
      "source": [
        "a=4\n",
        "b=4\n",
        "c=a**b\n",
        "print(c)"
      ]
    }
  ],
  "metadata": {
    "kernelspec": {
      "display_name": "Python 3 (ipykernel)",
      "language": "python",
      "name": "python3"
    },
    "language_info": {
      "codemirror_mode": {
        "name": "ipython",
        "version": 3
      },
      "file_extension": ".py",
      "mimetype": "text/x-python",
      "name": "python",
      "nbconvert_exporter": "python",
      "pygments_lexer": "ipython3",
      "version": "3.10.11"
    },
    "colab": {
      "provenance": []
    }
  },
  "nbformat": 4,
  "nbformat_minor": 5
}