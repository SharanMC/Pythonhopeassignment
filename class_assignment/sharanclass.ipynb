{
 "cells": [
  {
   "cell_type": "code",
   "execution_count": null,
   "id": "44010924",
   "metadata": {},
   "outputs": [],
   "source": [
    "from classnamesharan import multifuntions"
   ]
  },
  {
   "cell_type": "code",
   "execution_count": 19,
   "id": "6682a57f",
   "metadata": {},
   "outputs": [
    {
     "name": "stdout",
     "output_type": "stream",
     "text": [
      "Sub-field in AI:\n",
      "machine learning\n",
      "neural learning\n",
      "vision\n",
      "robotics\n",
      "speech processing\n",
      "natural language processing\n"
     ]
    }
   ],
   "source": [
    "multifuntions.subfields()"
   ]
  },
  {
   "cell_type": "code",
   "execution_count": 20,
   "id": "0cd5dd32",
   "metadata": {},
   "outputs": [
    {
     "name": "stdout",
     "output_type": "stream",
     "text": [
      "enter the no4\n",
      "even no\n"
     ]
    }
   ],
   "source": [
    "multifuntions.OddEven()"
   ]
  },
  {
   "cell_type": "code",
   "execution_count": 21,
   "id": "1cdd2012",
   "metadata": {},
   "outputs": [
    {
     "name": "stdout",
     "output_type": "stream",
     "text": [
      "Your gender: male\n",
      "Your age:25\n",
      "Eligible for marriage\n"
     ]
    }
   ],
   "source": [
    "multifuntions.Eligible()"
   ]
  },
  {
   "cell_type": "code",
   "execution_count": 22,
   "id": "89ddf648",
   "metadata": {},
   "outputs": [
    {
     "name": "stdout",
     "output_type": "stream",
     "text": [
      "Subject1= 23\n",
      "Subject2= 45\n",
      "Subject3= 34\n",
      "Subject4= 23\n",
      "Subject5= 23\n",
      "Total= 148\n",
      "Percentage= 29.599999999999998\n"
     ]
    }
   ],
   "source": [
    "multifuntions.percentage()"
   ]
  },
  {
   "cell_type": "code",
   "execution_count": 23,
   "id": "22c9f0e7",
   "metadata": {},
   "outputs": [
    {
     "name": "stdout",
     "output_type": "stream",
     "text": [
      "hieght134\n",
      "weight77\n",
      "hieght178\n",
      "hieght256\n",
      "area of triangle: 5159.0\n",
      "hieght1: 78\n",
      "hieght2: 56\n",
      "breath: 77\n",
      "perimeter of triangle: 233\n"
     ]
    }
   ],
   "source": [
    "multifuntions.triangle()"
   ]
  }
 ],
 "metadata": {
  "kernelspec": {
   "display_name": "Python 3 (ipykernel)",
   "language": "python",
   "name": "python3"
  },
  "language_info": {
   "codemirror_mode": {
    "name": "ipython",
    "version": 3
   },
   "file_extension": ".py",
   "mimetype": "text/x-python",
   "name": "python",
   "nbconvert_exporter": "python",
   "pygments_lexer": "ipython3",
   "version": "3.10.11"
  }
 },
 "nbformat": 4,
 "nbformat_minor": 5
}
