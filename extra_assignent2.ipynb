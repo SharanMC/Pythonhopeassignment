{
  "cells": [
    {
      "cell_type": "markdown",
      "id": "a0238eec",
      "metadata": {
        "id": "a0238eec"
      },
      "source": [
        "extra assignent2\n"
      ]
    },
    {
      "cell_type": "code",
      "execution_count": null,
      "id": "7fddac99",
      "metadata": {
        "id": "7fddac99",
        "outputId": "58bf675e-2c92-4838-e992-95f0a1cd25a5"
      },
      "outputs": [
        {
          "name": "stdout",
          "output_type": "stream",
          "text": [
            "0\n",
            "1\n",
            "2\n",
            "3\n",
            "4\n",
            "5\n",
            "6\n",
            "7\n",
            "8\n",
            "9\n",
            "10\n",
            "11\n",
            "12\n",
            "13\n",
            "14\n",
            "15\n",
            "16\n",
            "17\n",
            "18\n",
            "19\n"
          ]
        }
      ],
      "source": [
        "#1#\n",
        "a=range(0,20)\n",
        "for i in a:\n",
        "    print(i)"
      ]
    },
    {
      "cell_type": "code",
      "execution_count": null,
      "id": "7ab65fbb",
      "metadata": {
        "id": "7ab65fbb",
        "outputId": "b3778216-dfcf-44ce-ad0f-96b5f3b21ecd"
      },
      "outputs": [
        {
          "name": "stdout",
          "output_type": "stream",
          "text": [
            "10 11 12 13 14 15 16 17 18 19 "
          ]
        }
      ],
      "source": [
        "#2#\n",
        "a=range(10,20)\n",
        "for i in a:\n",
        "    print(i,end=' ')"
      ]
    },
    {
      "cell_type": "code",
      "execution_count": null,
      "id": "498c7071",
      "metadata": {
        "id": "498c7071",
        "outputId": "04e6012b-70f4-4eed-8320-05e1bfc3e06d"
      },
      "outputs": [
        {
          "name": "stdout",
          "output_type": "stream",
          "text": [
            "number of item in the list2: 7\n"
          ]
        }
      ],
      "source": [
        "#3#\n",
        "list2=[10,20,14,55,43,87,76]\n",
        "print('number of item in the list2:',len(list2))"
      ]
    },
    {
      "cell_type": "code",
      "execution_count": null,
      "id": "4a381e9b",
      "metadata": {
        "id": "4a381e9b",
        "outputId": "e8860b99-65c9-4893-f051-0695d8efa95c"
      },
      "outputs": [
        {
          "name": "stdout",
          "output_type": "stream",
          "text": [
            "Artificial inteligence\n",
            "A\n",
            "r\n",
            "t\n",
            "i\n",
            "f\n",
            "i\n",
            "c\n",
            "i\n",
            "a\n",
            "l\n",
            " \n",
            "i\n",
            "n\n",
            "t\n",
            "e\n",
            "l\n",
            "i\n",
            "g\n",
            "e\n",
            "n\n",
            "c\n",
            "e\n"
          ]
        }
      ],
      "source": [
        "#4#\n",
        "a='Artificial inteligence'\n",
        "print(a)\n",
        "for i in a:\n",
        "    print(i)\n"
      ]
    },
    {
      "cell_type": "code",
      "execution_count": null,
      "id": "2a26a35f",
      "metadata": {
        "id": "2a26a35f",
        "outputId": "09d3cd00-d0f1-43f5-8c05-b0d4e2419045"
      },
      "outputs": [
        {
          "name": "stdout",
          "output_type": "stream",
          "text": [
            "your name:sharan\n",
            "sharan\n",
            "your age:25\n",
            "25\n",
            "your professtiondata analyst\n",
            "data analyst\n"
          ]
        }
      ],
      "source": [
        "#5#\n",
        "name=input(str('your name:'))\n",
        "print(name)\n",
        "age=input(str(\"your age:\"))\n",
        "print(age)\n",
        "your_prof=input(str(\"your professtion\"))\n",
        "print(your_prof)"
      ]
    },
    {
      "cell_type": "code",
      "execution_count": null,
      "id": "309c9127",
      "metadata": {
        "id": "309c9127",
        "outputId": "7d29b541-6391-4fbd-c057-d4265520c5a8"
      },
      "outputs": [
        {
          "name": "stdout",
          "output_type": "stream",
          "text": [
            "('Welcome', 2, 'hope')\n"
          ]
        }
      ],
      "source": [
        "#6#\n",
        "tuple_ex=('Welcome',2,'hope')\n",
        "print(tuple_ex)"
      ]
    },
    {
      "cell_type": "code",
      "execution_count": null,
      "id": "8a1baa6d",
      "metadata": {
        "id": "8a1baa6d",
        "outputId": "5996f48c-d5cb-4f97-9b40-ecccabfa4cfb"
      },
      "outputs": [
        {
          "name": "stdout",
          "output_type": "stream",
          "text": [
            "((0, 1, 2, 3), ('python', 'hope'))\n"
          ]
        }
      ],
      "source": [
        "#7#\n",
        "tuple1=(0,1,2,3)\n",
        "tuple2=('python','hope')\n",
        "tuple3=(tuple1,tuple2)\n",
        "print(tuple3)"
      ]
    },
    {
      "cell_type": "code",
      "execution_count": null,
      "id": "10c972b6",
      "metadata": {
        "id": "10c972b6",
        "outputId": "0628fb21-dfa3-44d4-a9fe-91d571b3ce05"
      },
      "outputs": [
        {
          "name": "stdout",
          "output_type": "stream",
          "text": [
            "19 is odd\n",
            "25 is odd\n",
            "1 is odd\n"
          ]
        }
      ],
      "source": [
        "l1=[20,10,16,19,25,1,276,188]\n",
        "for i in l1:\n",
        "    if (i%2)!=0:\n",
        "        print(i,'is odd')"
      ]
    },
    {
      "cell_type": "code",
      "execution_count": null,
      "id": "97532ef9",
      "metadata": {
        "id": "97532ef9",
        "outputId": "5a372197-0bd9-47e6-a969-2355c595ff98"
      },
      "outputs": [
        {
          "name": "stdout",
          "output_type": "stream",
          "text": [
            "20 is even\n",
            "10 is even\n",
            "16 is even\n",
            "276 is even\n",
            "188 is even\n"
          ]
        }
      ],
      "source": [
        "l2=[20,10,16,19,25,1,276,188]\n",
        "for i in l2:\n",
        "    if (i%2)==0:\n",
        "        print(i,'is even')"
      ]
    },
    {
      "cell_type": "code",
      "execution_count": null,
      "id": "550dadc7",
      "metadata": {
        "id": "550dadc7"
      },
      "outputs": [],
      "source": []
    }
  ],
  "metadata": {
    "kernelspec": {
      "display_name": "Python 3 (ipykernel)",
      "language": "python",
      "name": "python3"
    },
    "language_info": {
      "codemirror_mode": {
        "name": "ipython",
        "version": 3
      },
      "file_extension": ".py",
      "mimetype": "text/x-python",
      "name": "python",
      "nbconvert_exporter": "python",
      "pygments_lexer": "ipython3",
      "version": "3.10.11"
    },
    "colab": {
      "provenance": []
    }
  },
  "nbformat": 4,
  "nbformat_minor": 5
}