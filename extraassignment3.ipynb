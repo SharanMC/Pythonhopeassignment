{
  "nbformat": 4,
  "nbformat_minor": 0,
  "metadata": {
    "colab": {
      "provenance": [],
      "gpuType": "T4"
    },
    "kernelspec": {
      "name": "python3",
      "display_name": "Python 3"
    },
    "language_info": {
      "name": "python"
    },
    "accelerator": "GPU"
  },
  "cells": [
    {
      "cell_type": "code",
      "execution_count": 8,
      "metadata": {
        "colab": {
          "base_uri": "https://localhost:8080/"
        },
        "id": "wcTBojdfAVjO",
        "outputId": "217df405-4309-457a-bfde-e562561710d2"
      },
      "outputs": [
        {
          "output_type": "stream",
          "name": "stdout",
          "text": [
            "enter the numeric value of 10:9\n",
            "value\n",
            "wrong\n"
          ]
        }
      ],
      "source": [
        "#1#\n",
        "value=int(input(\"enter the numeric value of 10:\"))\n",
        "print(\"value\")\n",
        "if value == 10:\n",
        "  print(\"correct\")\n",
        "else:\n",
        "  print(\"wrong\")\n"
      ]
    },
    {
      "cell_type": "code",
      "source": [
        "password=str(input(\"enter the password:\"))\n",
        "if password==\"HOPE@123\":\n",
        "  print(\"your password is coorect\")\n",
        "else:\n",
        "  print(\"wrong password\")"
      ],
      "metadata": {
        "colab": {
          "base_uri": "https://localhost:8080/"
        },
        "id": "iwUKJ545HSej",
        "outputId": "5e3a83fd-3f09-4656-fc4a-807ab14f8a8f"
      },
      "execution_count": 11,
      "outputs": [
        {
          "output_type": "stream",
          "name": "stdout",
          "text": [
            "enter the password:HOPE@123\n",
            "your password is coorect\n"
          ]
        }
      ]
    },
    {
      "cell_type": "code",
      "source": [
        "age_list=[10,25,30,46,68]\n",
        "for age in age_list:\n",
        "  if age<18:\n",
        "    print(\"child\")\n",
        "  if age<35:\n",
        "    print(\"adult\")\n",
        "  if age<59:\n",
        "    print(\"citizen\")\n",
        "  else:\n",
        "    print(\"senior citizen\")"
      ],
      "metadata": {
        "colab": {
          "base_uri": "https://localhost:8080/"
        },
        "id": "wsLQRoCPIJxs",
        "outputId": "ceac3dec-1270-44dd-cd7f-2004b07776d6"
      },
      "execution_count": 13,
      "outputs": [
        {
          "output_type": "stream",
          "name": "stdout",
          "text": [
            "child\n",
            "adult\n",
            "citizen\n",
            "adult\n",
            "citizen\n",
            "adult\n",
            "citizen\n",
            "citizen\n",
            "senior citizen\n"
          ]
        }
      ]
    },
    {
      "cell_type": "code",
      "source": [
        "a=int(input(\"enter any number:\"))\n",
        "b=a*-1\n",
        "print(b)\n",
        "c=b/a\n",
        "print(c)\n",
        "if c==-1:\n",
        "  print(\"negative\")\n",
        "else:\n",
        "  print(\"positive\")"
      ],
      "metadata": {
        "colab": {
          "base_uri": "https://localhost:8080/"
        },
        "id": "oxac3zKoKV68",
        "outputId": "ca3f9204-4d5c-42c7-b931-8ec0aad0385b"
      },
      "execution_count": 56,
      "outputs": [
        {
          "output_type": "stream",
          "name": "stdout",
          "text": [
            "enter any number:-9\n",
            "9\n",
            "-1.0\n",
            "negative\n"
          ]
        }
      ]
    },
    {
      "cell_type": "code",
      "source": [
        "num1=int(input(\"enter a number to check:\"))\n",
        "if num1%5==0:\n",
        "  print(\"no is div by 5\")\n",
        "else:\n",
        "  print(\"not div by 5\")"
      ],
      "metadata": {
        "colab": {
          "base_uri": "https://localhost:8080/"
        },
        "id": "QzXNIu6ZK3hp",
        "outputId": "3674750f-c542-4845-b7e8-9adefd9ea783"
      },
      "execution_count": 64,
      "outputs": [
        {
          "output_type": "stream",
          "name": "stdout",
          "text": [
            "enter a number to check:65\n",
            "no is div by 5\n"
          ]
        }
      ]
    },
    {
      "cell_type": "code",
      "source": [
        "a=5\n",
        "b=5\n",
        "c=a/b\n",
        "print(c)"
      ],
      "metadata": {
        "colab": {
          "base_uri": "https://localhost:8080/"
        },
        "id": "hrcZpLpjQrJF",
        "outputId": "25044fbe-ba17-4efe-a66b-bd9c60cf12df"
      },
      "execution_count": 60,
      "outputs": [
        {
          "output_type": "stream",
          "name": "stdout",
          "text": [
            "1.0\n"
          ]
        }
      ]
    }
  ]
}