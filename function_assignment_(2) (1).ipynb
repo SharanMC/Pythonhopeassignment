{
  "cells": [
    {
      "cell_type": "code",
      "execution_count": 50,
      "id": "6ac6728d",
      "metadata": {
        "id": "6ac6728d",
        "outputId": "5b05ef5d-b4b0-42d3-df64-c69285b3ed3b",
        "colab": {
          "base_uri": "https://localhost:8080/"
        }
      },
      "outputs": [
        {
          "output_type": "stream",
          "name": "stdout",
          "text": [
            "Sub-field in AI:\n",
            "machine learning\n",
            "neural learning\n",
            "vision\n",
            "robotics\n",
            "speech processing\n",
            "natural language processing\n"
          ]
        }
      ],
      "source": [
        "#1\n",
        "def subfields():\n",
        "    subfields = [\"machine learning\", \"neural learning\", \"vision\", \"robotics\", \"speech processing\", \"natural language processing\"]\n",
        "    print(\"Sub-field in AI:\")\n",
        "    for i in subfields:\n",
        "        print(i)\n",
        "\n",
        "\n",
        "subfields()\n"
      ]
    },
    {
      "cell_type": "code",
      "execution_count": null,
      "id": "431169b0",
      "metadata": {
        "id": "431169b0",
        "outputId": "414b6f2a-3113-4c7d-c17e-431660170e25"
      },
      "outputs": [
        {
          "name": "stdout",
          "output_type": "stream",
          "text": [
            "enter the no6\n",
            "even no\n"
          ]
        }
      ],
      "source": [
        "#2logic on odd even function#\n",
        "num=int(input(\"enter the no\"))\n",
        "    if num%2==0:\n",
        "        print(\"even no\")\n",
        "    else:\n",
        "        print(\"odd no\")"
      ]
    },
    {
      "cell_type": "code",
      "execution_count": null,
      "id": "793929d1",
      "metadata": {
        "id": "793929d1"
      },
      "outputs": [],
      "source": [
        "#2\n",
        "def OddEven():\n",
        "    num=int(input(\"enter the no\"))\n",
        "    if num%2==0:\n",
        "        print(\"even no\")\n",
        "    else:\n",
        "        print(\"odd no\")\n",
        "\n",
        "\n",
        "\n"
      ]
    },
    {
      "cell_type": "code",
      "execution_count": null,
      "id": "3f20a2a0",
      "metadata": {
        "id": "3f20a2a0",
        "outputId": "7a690f8c-378a-48fe-c23c-8b13a3f524b7"
      },
      "outputs": [
        {
          "name": "stdout",
          "output_type": "stream",
          "text": [
            "enter the no8\n",
            "even no\n"
          ]
        }
      ],
      "source": [
        "OddEven()\n"
      ]
    },
    {
      "cell_type": "code",
      "execution_count": null,
      "id": "56ad3dc8",
      "metadata": {
        "id": "56ad3dc8",
        "outputId": "8d071823-a2a1-47c3-d7d8-05cf24b07b57"
      },
      "outputs": [
        {
          "name": "stdout",
          "output_type": "stream",
          "text": [
            "Your gender: male\n",
            "Your age:67\n",
            "Eligible for marriage\n"
          ]
        }
      ],
      "source": [
        "#3 logic of code\n",
        "gender = input(str(\"Your gender: \"))\n",
        "age = int(input(\"Your age:\"))\n",
        "if age >= 18:\n",
        "    print(\"Eligible for marriage\")\n",
        "else:\n",
        "    print(\"Not eligible\")"
      ]
    },
    {
      "cell_type": "code",
      "execution_count": null,
      "id": "2a7f3681",
      "metadata": {
        "id": "2a7f3681"
      },
      "outputs": [],
      "source": [
        "#5\n",
        "def Eligible():\n",
        "    gender = input(str(\"Your gender: \"))\n",
        "    age = int(input(\"Your age:\"))\n",
        "    if age >= 18:\n",
        "        print(\"Eligible for marriage\")\n",
        "    else:\n",
        "        print(\"Not eligible\")\n"
      ]
    },
    {
      "cell_type": "code",
      "execution_count": null,
      "id": "f04417b4",
      "metadata": {
        "id": "f04417b4",
        "outputId": "30595ef0-54f0-4248-cd30-3f20b62a26a2"
      },
      "outputs": [
        {
          "name": "stdout",
          "output_type": "stream",
          "text": [
            "Your gender: male\n",
            "Your age:25\n",
            "Eligible for marriage\n"
          ]
        }
      ],
      "source": [
        "Eligible()"
      ]
    },
    {
      "cell_type": "code",
      "execution_count": 42,
      "id": "571e9da0",
      "metadata": {
        "id": "571e9da0"
      },
      "outputs": [],
      "source": [
        "#4#\n",
        "def percentage():\n",
        "    subject_scores = [23, 45, 34, 23, 23]\n",
        "    total = sum(subject_scores)\n",
        "    total_marks_possible = 500\n",
        "    percentage = (total / total_marks_possible) * 100\n",
        "\n",
        "    dic = {\n",
        "      \"Subject1\": subject_scores[0],\n",
        "      \"Subject2\": subject_scores[1],\n",
        "      \"Subject3\": subject_scores[2],\n",
        "      \"Subject4\": subject_scores[3],\n",
        "      \"Subject5\": subject_scores[4],\n",
        "      \"Total\": total,\n",
        "      \"Percentage\": percentage,\n",
        "         }\n",
        "\n",
        "    for key in dic:\n",
        "         value = dic[key]\n",
        "         print(f\"{key}= {value}\")\n"
      ]
    },
    {
      "cell_type": "code",
      "source": [
        "percentage()"
      ],
      "metadata": {
        "colab": {
          "base_uri": "https://localhost:8080/"
        },
        "id": "7Zvd9dqx2ZTA",
        "outputId": "cdd5312f-65d2-4d6b-a548-7d8bcf8ad932"
      },
      "id": "7Zvd9dqx2ZTA",
      "execution_count": 43,
      "outputs": [
        {
          "output_type": "stream",
          "name": "stdout",
          "text": [
            "Subject1= 23\n",
            "Subject2= 45\n",
            "Subject3= 34\n",
            "Subject4= 23\n",
            "Subject5= 23\n",
            "Total= 148\n",
            "Percentage= 29.599999999999998\n"
          ]
        }
      ]
    },
    {
      "cell_type": "code",
      "execution_count": 47,
      "id": "82f068b7",
      "metadata": {
        "id": "82f068b7"
      },
      "outputs": [],
      "source": [
        "#5\n",
        "def triangle():\n",
        "    h=int(input(\"hieght\"))\n",
        "    b=int(input(\"weight\"))\n",
        "    hieght1=int(input(\"hieght1\"))\n",
        "    hieght2=int(input(\"hieght2\"))\n",
        "    area =(h*b)/2\n",
        "    print(\"area of triangle:\",area)\n",
        "    print(\"hieght1:\", hieght1)\n",
        "    print(\"hieght2:\", hieght2)\n",
        "    print(\"breath:\",b)\n",
        "    perimeter=hieght1+hieght1+b\n",
        "    print(\"perimeter of triangle:\",perimeter)"
      ]
    },
    {
      "cell_type": "code",
      "execution_count": 49,
      "id": "b36f1ccf",
      "metadata": {
        "colab": {
          "base_uri": "https://localhost:8080/"
        },
        "id": "b36f1ccf",
        "outputId": "75df8478-1705-43ac-8684-990576368d4f"
      },
      "outputs": [
        {
          "output_type": "stream",
          "name": "stdout",
          "text": [
            "hieght98\n",
            "weight78\n",
            "hieght188\n",
            "hieght277\n",
            "area of triangle: 3822.0\n",
            "hieght1: 88\n",
            "hieght2: 77\n",
            "breath: 78\n",
            "perimeter of triangle: 254\n"
          ]
        }
      ],
      "source": [
        "\n",
        "triangle()\n"
      ]
    }
  ],
  "metadata": {
    "kernelspec": {
      "display_name": "Python 3 (ipykernel)",
      "language": "python",
      "name": "python3"
    },
    "language_info": {
      "codemirror_mode": {
        "name": "ipython",
        "version": 3
      },
      "file_extension": ".py",
      "mimetype": "text/x-python",
      "name": "python",
      "nbconvert_exporter": "python",
      "pygments_lexer": "ipython3",
      "version": "3.10.11"
    },
    "colab": {
      "provenance": []
    }
  },
  "nbformat": 4,
  "nbformat_minor": 5
}