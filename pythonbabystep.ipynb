{
  "cells": [
    {
      "cell_type": "markdown",
      "id": "b8066af0",
      "metadata": {
        "id": "b8066af0"
      },
      "source": [
        "1"
      ]
    },
    {
      "cell_type": "code",
      "execution_count": null,
      "id": "aecaddc1",
      "metadata": {
        "id": "aecaddc1",
        "outputId": "c1dac42e-81fa-458b-c609-c7bad5153755"
      },
      "outputs": [
        {
          "name": "stdout",
          "output_type": "stream",
          "text": [
            "Wecome to Asssingnment-1\n"
          ]
        }
      ],
      "source": [
        "print('Wecome to Asssingnment-1')"
      ]
    },
    {
      "cell_type": "markdown",
      "id": "b847b260",
      "metadata": {
        "id": "b847b260"
      },
      "source": [
        "2"
      ]
    },
    {
      "cell_type": "code",
      "execution_count": null,
      "id": "acc95245",
      "metadata": {
        "id": "acc95245",
        "outputId": "d3feea89-5433-42df-c193-70915a898a0c"
      },
      "outputs": [
        {
          "name": "stdout",
          "output_type": "stream",
          "text": [
            "40\n"
          ]
        }
      ],
      "source": [
        "Num1=10\n",
        "Num2=30\n",
        "add=Num1+Num2\n",
        "print(add)"
      ]
    },
    {
      "cell_type": "markdown",
      "id": "b244ea91",
      "metadata": {
        "id": "b244ea91"
      },
      "source": [
        "3"
      ]
    },
    {
      "cell_type": "code",
      "execution_count": null,
      "id": "e7e5aa64",
      "metadata": {
        "id": "e7e5aa64",
        "outputId": "2b27e1b1-6417-4a3c-b890-5954d951d080"
      },
      "outputs": [
        {
          "name": "stdout",
          "output_type": "stream",
          "text": [
            "enter the weight in kg:50\n",
            "enter the height in m2:1.64\n",
            "18.590124925639504\n",
            "normal\n"
          ]
        }
      ],
      "source": [
        "W=float(input(\"enter the weight in kg:\"))\n",
        "H=float(input(\"enter the height in m2:\"))\n",
        "BMI=float(W/(H**2))\n",
        "print(BMI)\n",
        "if BMI<=18.5:\n",
        "    print('under weight')\n",
        "elif 18.5<=BMI<=24.9:\n",
        "    print('normal')\n",
        "elif 25.0<=BMI<=29.9:\n",
        "    print('overweight')\n",
        "else:\n",
        "    print('overweight')\n",
        "\n",
        "\n",
        ""
      ]
    }
  ],
  "metadata": {
    "kernelspec": {
      "display_name": "Python 3 (ipykernel)",
      "language": "python",
      "name": "python3"
    },
    "language_info": {
      "codemirror_mode": {
        "name": "ipython",
        "version": 3
      },
      "file_extension": ".py",
      "mimetype": "text/x-python",
      "name": "python",
      "nbconvert_exporter": "python",
      "pygments_lexer": "ipython3",
      "version": "3.10.11"
    },
    "colab": {
      "provenance": []
    }
  },
  "nbformat": 4,
  "nbformat_minor": 5
}