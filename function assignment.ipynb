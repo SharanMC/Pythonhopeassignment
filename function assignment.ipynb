{
 "cells": [
  {
   "cell_type": "code",
   "execution_count": 20,
   "id": "6ac6728d",
   "metadata": {},
   "outputs": [
    {
     "name": "stdout",
     "output_type": "stream",
     "text": [
      "Sub-field in AI:\n",
      "machine learning\n",
      "neural learning\n",
      "vision\n",
      "robotics\n",
      "speech processing\n",
      "natural language processing\n"
     ]
    }
   ],
   "source": [
    "#1\n",
    "def subfields():\n",
    "    subfields = [\"machine learning\", \"neural learning\", \"vision\", \"robotics\", \"speech processing\", \"natural language processing\"]\n",
    "    print(\"Sub-field in AI:\")\n",
    "    for i in subfields:\n",
    "        print(i)\n",
    "\n",
    "\n",
    "subfields()\n"
   ]
  },
  {
   "cell_type": "code",
   "execution_count": 24,
   "id": "431169b0",
   "metadata": {},
   "outputs": [
    {
     "name": "stdout",
     "output_type": "stream",
     "text": [
      "enter the no6\n",
      "even no\n"
     ]
    }
   ],
   "source": [
    "#2logic on odd even function#\n",
    "num=int(input(\"enter the no\"))\n",
    "    if num%2==0:\n",
    "        print(\"even no\")\n",
    "    else:\n",
    "        print(\"odd no\")"
   ]
  },
  {
   "cell_type": "code",
   "execution_count": 25,
   "id": "793929d1",
   "metadata": {},
   "outputs": [],
   "source": [
    "def OddEven():\n",
    "    num=int(input(\"enter the no\"))\n",
    "    if num%2==0:\n",
    "        print(\"even no\")\n",
    "    else:\n",
    "        print(\"odd no\")\n",
    "    \n",
    "\n",
    "\n"
   ]
  },
  {
   "cell_type": "code",
   "execution_count": 26,
   "id": "3f20a2a0",
   "metadata": {},
   "outputs": [
    {
     "name": "stdout",
     "output_type": "stream",
     "text": [
      "enter the no8\n",
      "even no\n"
     ]
    }
   ],
   "source": [
    "OddEven()\n"
   ]
  },
  {
   "cell_type": "code",
   "execution_count": 32,
   "id": "56ad3dc8",
   "metadata": {},
   "outputs": [
    {
     "name": "stdout",
     "output_type": "stream",
     "text": [
      "Your gender: male\n",
      "Your age:67\n",
      "Eligible for marriage\n"
     ]
    }
   ],
   "source": [
    "#3 logic of code\n",
    "gender = input(str(\"Your gender: \"))\n",
    "age = int(input(\"Your age:\"))\n",
    "if age >= 18:\n",
    "    print(\"Eligible for marriage\")\n",
    "else:\n",
    "    print(\"Not eligible\")"
   ]
  },
  {
   "cell_type": "code",
   "execution_count": 35,
   "id": "2a7f3681",
   "metadata": {},
   "outputs": [],
   "source": [
    "def Eligible():\n",
    "    gender = input(str(\"Your gender: \"))\n",
    "    age = int(input(\"Your age:\"))\n",
    "    if age >= 18:\n",
    "        print(\"Eligible for marriage\")\n",
    "    else:\n",
    "        print(\"Not eligible\")\n",
    "    "
   ]
  },
  {
   "cell_type": "code",
   "execution_count": 38,
   "id": "f04417b4",
   "metadata": {},
   "outputs": [
    {
     "name": "stdout",
     "output_type": "stream",
     "text": [
      "Your gender: male\n",
      "Your age:25\n",
      "Eligible for marriage\n"
     ]
    }
   ],
   "source": [
    "Eligible()"
   ]
  },
  {
   "cell_type": "code",
   "execution_count": 31,
   "id": "9beb398b",
   "metadata": {},
   "outputs": [
    {
     "name": "stdout",
     "output_type": "stream",
     "text": [
      "subject1 = 23\n",
      "subject2 = 45\n",
      "subject3 = 34\n",
      "subject4 = 23\n",
      "subject5 = 23\n",
      "total = 148\n",
      "percentage = 29.599999999999998\n"
     ]
    }
   ],
   "source": [
    "l1 =[23, 45,34,23,23]\n",
    "total=sum(l1)\n",
    "percentage =((total / 500.0) * 100)\n",
    "result={\"subject1\":l1[0], \n",
    "        \"subject2\":l1[1],\n",
    "        \"subject3\":l1[2],\n",
    "        \"subject4\":l1[3],\n",
    "        \"subject5\":l1[4],\n",
    "        \"total\":total,\n",
    "        \"percentage\":percentage,\n",
    "        }\n",
    "for i in result:\n",
    "    print(i,\"=\",result[i])\n",
    "  \n",
    "   "
   ]
  },
  {
   "cell_type": "code",
   "execution_count": 40,
   "id": "2093aa46",
   "metadata": {},
   "outputs": [
    {
     "name": "stdout",
     "output_type": "stream",
     "text": [
      "hieght:8\n",
      "weight:9\n",
      "area of triangle: 36.0\n"
     ]
    }
   ],
   "source": [
    "h1=int(input(\"hieght:\"))\n",
    "b=int(input(\"weight:\"))\n",
    "area =(h*b)/2\n",
    "print(\"area of triangle:\",area)"
   ]
  },
  {
   "cell_type": "code",
   "execution_count": 51,
   "id": "82f068b7",
   "metadata": {},
   "outputs": [],
   "source": [
    "def triangle():\n",
    "    h=int(input(\"hieght\"))\n",
    "    b=int(input(\"weight\"))\n",
    "    hieght1=int(input())\n",
    "    hieght2=int(input())\n",
    "    area =(h*b)/2\n",
    "    print(\"area of triangle:\",area)\n",
    "    print(\"hieght1:\", hieght1)\n",
    "    print(\"hieght2:\", hieght2)\n",
    "    print(\"breath:\",b)\n",
    "    perimeter=h1+h2+b\n",
    "    print(\"perimeter of triangle:\",perimeter)    "
   ]
  },
  {
   "cell_type": "code",
   "execution_count": 44,
   "id": "b36f1ccf",
   "metadata": {},
   "outputs": [
    {
     "name": "stdout",
     "output_type": "stream",
     "text": [
      "hieght9\n",
      "weight8\n",
      "area of triangle: 36.0\n"
     ]
    }
   ],
   "source": [
    "triangle()\n"
   ]
  },
  {
   "cell_type": "code",
   "execution_count": 58,
   "id": "9542b4ed",
   "metadata": {},
   "outputs": [
    {
     "name": "stdout",
     "output_type": "stream",
     "text": [
      "hieght6\n",
      "weight7\n",
      "area of triangle: 21.0\n",
      "height1:6\n",
      "height2:6\n",
      "breath: 7\n",
      "perimeter of triangle: 19\n"
     ]
    }
   ],
   "source": [
    "h=int(input(\"hieght\"))\n",
    "b=int(input(\"weight\"))\n",
    "area =(h*b)/2\n",
    "print(\"area of triangle:\",area)\n",
    "height1=int(input(\"height1:\"))\n",
    "height2=int(input(\"height2:\"))\n",
    "perimeter=height1+height2+b\n",
    "print(\"breath:\",b)\n",
    "print(\"perimeter of triangle:\",perimeter)    "
   ]
  },
  {
   "cell_type": "code",
   "execution_count": null,
   "id": "571e9da0",
   "metadata": {},
   "outputs": [],
   "source": []
  },
  {
   "cell_type": "code",
   "execution_count": null,
   "id": "5ec0d38b",
   "metadata": {},
   "outputs": [],
   "source": []
  }
 ],
 "metadata": {
  "kernelspec": {
   "display_name": "Python 3 (ipykernel)",
   "language": "python",
   "name": "python3"
  },
  "language_info": {
   "codemirror_mode": {
    "name": "ipython",
    "version": 3
   },
   "file_extension": ".py",
   "mimetype": "text/x-python",
   "name": "python",
   "nbconvert_exporter": "python",
   "pygments_lexer": "ipython3",
   "version": "3.10.11"
  }
 },
 "nbformat": 4,
 "nbformat_minor": 5
}
